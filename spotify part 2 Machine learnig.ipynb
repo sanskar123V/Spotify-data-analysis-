{
 "cells": [
  {
   "cell_type": "code",
   "execution_count": 1,
   "id": "0fccce17",
   "metadata": {},
   "outputs": [],
   "source": [
    "import pandas as pd\n",
    "from sklearn.tree import DecisionTreeClassifier\n",
    "from sklearn.ensemble import RandomForestClassifier\n",
    "from sklearn.preprocessing import LabelEncoder\n",
    "from sklearn.model_selection import train_test_split\n",
    "from sklearn.metrics import accuracy_score"
   ]
  },
  {
   "cell_type": "code",
   "execution_count": 2,
   "id": "a2d82d2c",
   "metadata": {},
   "outputs": [],
   "source": [
    "music_data = pd.read_csv('spotify.csv')\n",
    "music_data.drop_duplicates (inplace=True)\n",
    "music_data.dropna(inplace=True)"
   ]
  },
  {
   "cell_type": "code",
   "execution_count": 3,
   "id": "cf1df005",
   "metadata": {},
   "outputs": [],
   "source": [
    "X = music_data.drop(columns=['track_id','artists','album_name','track_name','explicit','duration_ms','time_signature', 'track_genre'])\n",
    "y = music_data['track_genre']"
   ]
  },
  {
   "cell_type": "code",
   "execution_count": 4,
   "id": "86da4732",
   "metadata": {},
   "outputs": [],
   "source": [
    "for x in X.index:\n",
    "    if X.loc[x,\"danceability\"] == 0.1 or X.loc[x,\"danceability\"] == 0.2 or X.loc[x,\"danceability\"] == 0.3: \n",
    "        X.loc[x,\"danceability\"] = 0\n",
    "    elif X.loc[x,\"danceability\"] == 0.4 or X.loc[x,\"danceability\"] == 0.5 or X.loc[x,\"danceability\"] == 0.6:\n",
    "        X.loc[x,\"danceability\"] = 1\n",
    "    elif X.loc[x,\"danceability\"] == 0.7 or X.loc[x,\"danceability\"] == 0.8 or X.loc[x,\"danceability\"] == 0.9:\n",
    "        X.loc[x,\"danceability\"] = 2\n",
    "    else:\n",
    "        X.loc[x,\"danceability\"] = 3"
   ]
  },
  {
   "cell_type": "code",
   "execution_count": 5,
   "id": "47305146",
   "metadata": {},
   "outputs": [],
   "source": [
    "for x in X.index:\n",
    "    if X.loc[x,\"energy\"] == 0.0 or X.loc[x,\"energy\"] == 0.1 or X.loc[x,\"energy\"] == 0.2: \n",
    "        X.loc[x,\"energy\"] = 0\n",
    "    elif X.loc[x,\"energy\"] == 0.3 or X.loc[x,\"energy\"] == 0.4 or X.loc[x,\"energy\"] == 0.5:\n",
    "        X.loc[x,\"energy\"] = 1\n",
    "    elif X.loc[x,\"energy\"] == 0.6 or X.loc[x,\"energy\"] == 0.7 or X.loc[x,\"energy\"] == 0.8:\n",
    "        X.loc[x,\"energy\"] = 2\n",
    "    else:\n",
    "        X.loc[x,\"energy\"] = 3"
   ]
  },
  {
   "cell_type": "code",
   "execution_count": 6,
   "id": "96dbb4ed",
   "metadata": {},
   "outputs": [],
   "source": [
    "for x in X.index:\n",
    "    if X.loc[x,\"key\"] == 0 or X.loc[x,\"key\"] == 1 or X.loc[x,\"key\"] == 2: \n",
    "        X.loc[x,\"key\"] = 0\n",
    "    elif X.loc[x,\"key\"] == 3 or X.loc[x,\"key\"] == 4 or X.loc[x,\"key\"] == 5:\n",
    "        X.loc[x,\"key\"] = 1\n",
    "    elif X.loc[x,\"key\"] == 6 or X.loc[x,\"key\"] == 7 or X.loc[x,\"key\"] == 8:\n",
    "        X.loc[x,\"key\"] = 2\n",
    "    else:\n",
    "        X.loc[x,\"key\"] = 3"
   ]
  },
  {
   "cell_type": "code",
   "execution_count": 7,
   "id": "c21cbed8",
   "metadata": {},
   "outputs": [],
   "source": [
    "for x in X.index:\n",
    "    if X.loc[x,\"loudness\"] == -4  or X.loc[x,\"loudness\"] == -5 or X.loc[x,\"loudness\"] == -6: \n",
    "        X.loc[x,\"loudness\"] = 0\n",
    "    elif X.loc[x,\"loudness\"] == -7  or X.loc[x,\"loudness\"] == -8 or X.loc[x,\"loudness\"] == -9:\n",
    "        X.loc[x,\"loudness\"] = 1\n",
    "    elif X.loc[x,\"loudness\"] == -10 or X.loc[x,\"loudness\"] == -11 or X.loc[x,\"loudness\"] == -12:\n",
    "        X.loc[x,\"loudness\"] = 2\n",
    "    else:\n",
    "        X.loc[x,\"loudness\"] = 3"
   ]
  },
  {
   "cell_type": "code",
   "execution_count": 8,
   "id": "4af7b50d",
   "metadata": {},
   "outputs": [],
   "source": [
    "for x in X.index:\n",
    "    if X.loc[x,\"speechiness\"] == 0.02 or X.loc[x,\"speechiness\"] == 0.03 or X.loc[x,\"speechiness\"] == 0.04: \n",
    "        X.loc[x,\"speechiness\"] = 0\n",
    "    elif X.loc[x,\"speechiness\"] == 0.05 or X.loc[x,\"speechiness\"] == 0.06 or X.loc[x,\"speechiness\"] == 0.07:\n",
    "        X.loc[x,\"speechiness\"] = 1\n",
    "    elif X.loc[x,\"speechiness\"] == 0.08 or X.loc[x,\"speechiness\"] == 0.09 or X.loc[x,\"speechiness\"] == 0.1:\n",
    "        X.loc[x,\"speechiness\"] = 2\n",
    "    else:\n",
    "        X.loc[x,\"speechiness\"] = 3"
   ]
  },
  {
   "cell_type": "code",
   "execution_count": 9,
   "id": "603cfde3",
   "metadata": {},
   "outputs": [],
   "source": [
    "for x in X.index:\n",
    "    if X.loc[x,\"acousticness\"] == 0.0 or X.loc[x,\"acousticness\"] == 0.1 or X.loc[x,\"acousticness\"] == 0.2: \n",
    "        X.loc[x,\"acousticness\"] = 0\n",
    "    elif X.loc[x,\"acousticness\"] == 0.3 or X.loc[x,\"acousticness\"] == 0.4 or X.loc[x,\"acousticness\"] == 0.5:\n",
    "        X.loc[x,\"acousticness\"] = 1\n",
    "    elif X.loc[x,\"acousticness\"] == 0.6 or X.loc[x,\"acousticness\"] == 0.7 or X.loc[x,\"acousticness\"] == 0.8:\n",
    "        X.loc[x,\"acousticness\"] = 2\n",
    "    else:\n",
    "        X.loc[x,\"acousticness\"] = 3"
   ]
  },
  {
   "cell_type": "code",
   "execution_count": 10,
   "id": "65110f56",
   "metadata": {},
   "outputs": [],
   "source": [
    "for x in X.index:\n",
    "    if X.loc[x,\"instrumentalness\"] == 0 or X.loc[x,\"instrumentalness\"] == 1 or X.loc[x,\"instrumentalness\"] == 2: \n",
    "        X.loc[x,\"instrumentalness\"] = 0\n",
    "    elif X.loc[x,\"instrumentalness\"] == 3 or X.loc[x,\"instrumentalness\"] == 4 or X.loc[x,\"instrumentalness\"] == 5:\n",
    "        X.loc[x,\"instrumentalness\"] = 1\n",
    "    elif X.loc[x,\"instrumentalness\"] == 6 or X.loc[x,\"instrumentalness\"] == 7 or X.loc[x,\"instrumentalness\"] == 8:\n",
    "        X.loc[x,\"instrumentalness\"] = 2\n",
    "    else:\n",
    "        X.loc[x,\"instrumentalness\"] = 3"
   ]
  },
  {
   "cell_type": "code",
   "execution_count": 11,
   "id": "1c7cdf43",
   "metadata": {},
   "outputs": [],
   "source": [
    "for x in X.index:\n",
    "    if X.loc[x,\"liveness\"] == 0.0 or X.loc[x,\"liveness\"] == 0.1 or X.loc[x,\"liveness\"] == 0.2: \n",
    "        X.loc[x,\"liveness\"] = 0\n",
    "    elif X.loc[x,\"liveness\"] == 0.3 or X.loc[x,\"liveness\"] == 0.4 or X.loc[x,\"liveness\"] == 0.5:\n",
    "        X.loc[x,\"liveness\"] = 1\n",
    "    else:\n",
    "        X.loc[x,\"liveness\"] = 2"
   ]
  },
  {
   "cell_type": "code",
   "execution_count": 12,
   "id": "ca5da002",
   "metadata": {},
   "outputs": [],
   "source": [
    "for x in X.index:\n",
    "    if X.loc[x,\"valence\"] == 0.0 or X.loc[x,\"valence\"] == 0.1 or X.loc[x,\"valence\"] == 0.2: \n",
    "        X.loc[x,\"valence\"] = 0\n",
    "    elif X.loc[x,\"valence\"] == 0.3 or X.loc[x,\"valence\"] == 0.4 or X.loc[x,\"valence\"] == 0.5:\n",
    "        X.loc[x,\"valence\"] = 1\n",
    "    elif X.loc[x,\"valence\"] == 0.6 or X.loc[x,\"valence\"] == 0.7 or X.loc[x,\"valence\"] == 0.8:\n",
    "        X.loc[x,\"valence\"] = 2\n",
    "    else:\n",
    "        X.loc[x,\"valence\"] = 3"
   ]
  },
  {
   "cell_type": "code",
   "execution_count": 13,
   "id": "45c301cf",
   "metadata": {},
   "outputs": [],
   "source": [
    "        \n",
    "for x in X.index:\n",
    "    if X.loc[x,\"tempo\"] == 70 or X.loc[x,\"tempo\"] == 80 or X.loc[x,\"tempo\"] == 90: \n",
    "        X.loc[x,\"tempo\"] = 0\n",
    "    elif X.loc[x,\"tempo\"] == 100 or X.loc[x,\"tempo\"] == 110 or X.loc[x,\"tempo\"] == 120:\n",
    "        X.loc[x,\"tempo\"] = 1\n",
    "    elif X.loc[x,\"tempo\"] == 130 or X.loc[x,\"tempo\"] == 140 or X.loc[x,\"tempo\"] == 150:\n",
    "        X.loc[x,\"tempo\"] = 2\n",
    "    else:\n",
    "        X.loc[x,\"tempo\"] = 3"
   ]
  },
  {
   "cell_type": "code",
   "execution_count": 14,
   "id": "7e4eb19e",
   "metadata": {},
   "outputs": [
    {
     "name": "stdout",
     "output_type": "stream",
     "text": [
      "0.9988011695906432\n"
     ]
    }
   ],
   "source": [
    "X_train, X_test, y_train, y_test = train_test_split(X, y, test_size = 0.3)\n",
    "\n",
    "model = DecisionTreeClassifier()\n",
    "model.fit(X_train, y_train)\n",
    "\n",
    "predictions = model.predict(X_test)\n",
    "score = accuracy_score(y_test, predictions)\n",
    "print(score)"
   ]
  },
  {
   "cell_type": "code",
   "execution_count": null,
   "id": "157e7ea4",
   "metadata": {},
   "outputs": [],
   "source": []
  }
 ],
 "metadata": {
  "kernelspec": {
   "display_name": "Python 3 (ipykernel)",
   "language": "python",
   "name": "python3"
  },
  "language_info": {
   "codemirror_mode": {
    "name": "ipython",
    "version": 3
   },
   "file_extension": ".py",
   "mimetype": "text/x-python",
   "name": "python",
   "nbconvert_exporter": "python",
   "pygments_lexer": "ipython3",
   "version": "3.11.3"
  }
 },
 "nbformat": 4,
 "nbformat_minor": 5
}
